{
 "cells": [
  {
   "cell_type": "code",
   "execution_count": 1,
   "metadata": {
    "collapsed": true
   },
   "outputs": [],
   "source": [
    "import numpy as np\n",
    "import pandas as pd\n",
    "\n",
    "# set some print options\n",
    "np.set_printoptions(precision=4)\n",
    "np.set_printoptions(threshold=5)\n",
    "np.set_printoptions(suppress=True)\n",
    "pd.set_option('precision', 3, 'notebook_repr_html', True, )\n",
    "\n",
    "# init random gen\n",
    "np.random.seed(2)"
   ]
  },
  {
   "cell_type": "markdown",
   "metadata": {},
   "source": [
    "## Import Data"
   ]
  },
  {
   "cell_type": "code",
   "execution_count": 2,
   "metadata": {
    "collapsed": false
   },
   "outputs": [
    {
     "data": {
      "text/html": [
       "<div>\n",
       "<table border=\"1\" class=\"dataframe\">\n",
       "  <thead>\n",
       "    <tr style=\"text-align: right;\">\n",
       "      <th></th>\n",
       "      <th>user_id</th>\n",
       "      <th>movie_id</th>\n",
       "      <th>rating</th>\n",
       "      <th>timestamp</th>\n",
       "    </tr>\n",
       "  </thead>\n",
       "  <tbody>\n",
       "    <tr>\n",
       "      <th>0</th>\n",
       "      <td>1</td>\n",
       "      <td>1193</td>\n",
       "      <td>5</td>\n",
       "      <td>978300760</td>\n",
       "    </tr>\n",
       "    <tr>\n",
       "      <th>1</th>\n",
       "      <td>1</td>\n",
       "      <td>661</td>\n",
       "      <td>3</td>\n",
       "      <td>978302109</td>\n",
       "    </tr>\n",
       "    <tr>\n",
       "      <th>2</th>\n",
       "      <td>1</td>\n",
       "      <td>914</td>\n",
       "      <td>3</td>\n",
       "      <td>978301968</td>\n",
       "    </tr>\n",
       "    <tr>\n",
       "      <th>3</th>\n",
       "      <td>1</td>\n",
       "      <td>3408</td>\n",
       "      <td>4</td>\n",
       "      <td>978300275</td>\n",
       "    </tr>\n",
       "    <tr>\n",
       "      <th>4</th>\n",
       "      <td>1</td>\n",
       "      <td>2355</td>\n",
       "      <td>5</td>\n",
       "      <td>978824291</td>\n",
       "    </tr>\n",
       "  </tbody>\n",
       "</table>\n",
       "</div>"
      ],
      "text/plain": [
       "   user_id  movie_id  rating  timestamp\n",
       "0        1      1193       5  978300760\n",
       "1        1       661       3  978302109\n",
       "2        1       914       3  978301968\n",
       "3        1      3408       4  978300275\n",
       "4        1      2355       5  978824291"
      ]
     },
     "execution_count": 2,
     "metadata": {},
     "output_type": "execute_result"
    }
   ],
   "source": [
    "users = pd.read_table('data/ml-1m/users.dat',sep='::',header = None,\n",
    "                      names = ['user_id','gender','age','occupation','zip'],engine='python')\n",
    "\n",
    "ratings = pd.read_table('data/ml-1m/ratings.dat',sep='::',header = None,\n",
    "                      names = ['user_id','movie_id','rating','timestamp'],engine='python')\n",
    "\n",
    "movies = pd.read_table('data/ml-1m/movies.dat',sep='::',header = None,\n",
    "                      names = ['movie_id','title','genres'],engine='python')\n",
    "\n",
    "ratings.head()"
   ]
  },
  {
   "cell_type": "code",
   "execution_count": 3,
   "metadata": {
    "collapsed": false
   },
   "outputs": [
    {
     "data": {
      "text/html": [
       "<div>\n",
       "<table border=\"1\" class=\"dataframe\">\n",
       "  <thead>\n",
       "    <tr style=\"text-align: right;\">\n",
       "      <th></th>\n",
       "      <th>user_id</th>\n",
       "      <th>movie_id</th>\n",
       "      <th>rating</th>\n",
       "      <th>timestamp</th>\n",
       "      <th>gender</th>\n",
       "      <th>age</th>\n",
       "      <th>occupation</th>\n",
       "      <th>zip</th>\n",
       "      <th>title</th>\n",
       "      <th>genres</th>\n",
       "    </tr>\n",
       "  </thead>\n",
       "  <tbody>\n",
       "    <tr>\n",
       "      <th>0</th>\n",
       "      <td>1</td>\n",
       "      <td>1193</td>\n",
       "      <td>5</td>\n",
       "      <td>978300760</td>\n",
       "      <td>F</td>\n",
       "      <td>1</td>\n",
       "      <td>10</td>\n",
       "      <td>48067</td>\n",
       "      <td>One Flew Over the Cuckoo's Nest (1975)</td>\n",
       "      <td>Drama</td>\n",
       "    </tr>\n",
       "    <tr>\n",
       "      <th>1</th>\n",
       "      <td>2</td>\n",
       "      <td>1193</td>\n",
       "      <td>5</td>\n",
       "      <td>978298413</td>\n",
       "      <td>M</td>\n",
       "      <td>56</td>\n",
       "      <td>16</td>\n",
       "      <td>70072</td>\n",
       "      <td>One Flew Over the Cuckoo's Nest (1975)</td>\n",
       "      <td>Drama</td>\n",
       "    </tr>\n",
       "    <tr>\n",
       "      <th>2</th>\n",
       "      <td>12</td>\n",
       "      <td>1193</td>\n",
       "      <td>4</td>\n",
       "      <td>978220179</td>\n",
       "      <td>M</td>\n",
       "      <td>25</td>\n",
       "      <td>12</td>\n",
       "      <td>32793</td>\n",
       "      <td>One Flew Over the Cuckoo's Nest (1975)</td>\n",
       "      <td>Drama</td>\n",
       "    </tr>\n",
       "    <tr>\n",
       "      <th>3</th>\n",
       "      <td>15</td>\n",
       "      <td>1193</td>\n",
       "      <td>4</td>\n",
       "      <td>978199279</td>\n",
       "      <td>M</td>\n",
       "      <td>25</td>\n",
       "      <td>7</td>\n",
       "      <td>22903</td>\n",
       "      <td>One Flew Over the Cuckoo's Nest (1975)</td>\n",
       "      <td>Drama</td>\n",
       "    </tr>\n",
       "    <tr>\n",
       "      <th>4</th>\n",
       "      <td>17</td>\n",
       "      <td>1193</td>\n",
       "      <td>5</td>\n",
       "      <td>978158471</td>\n",
       "      <td>M</td>\n",
       "      <td>50</td>\n",
       "      <td>1</td>\n",
       "      <td>95350</td>\n",
       "      <td>One Flew Over the Cuckoo's Nest (1975)</td>\n",
       "      <td>Drama</td>\n",
       "    </tr>\n",
       "  </tbody>\n",
       "</table>\n",
       "</div>"
      ],
      "text/plain": [
       "   user_id  movie_id  rating  timestamp gender  age  occupation    zip  \\\n",
       "0        1      1193       5  978300760      F    1          10  48067   \n",
       "1        2      1193       5  978298413      M   56          16  70072   \n",
       "2       12      1193       4  978220179      M   25          12  32793   \n",
       "3       15      1193       4  978199279      M   25           7  22903   \n",
       "4       17      1193       5  978158471      M   50           1  95350   \n",
       "\n",
       "                                    title genres  \n",
       "0  One Flew Over the Cuckoo's Nest (1975)  Drama  \n",
       "1  One Flew Over the Cuckoo's Nest (1975)  Drama  \n",
       "2  One Flew Over the Cuckoo's Nest (1975)  Drama  \n",
       "3  One Flew Over the Cuckoo's Nest (1975)  Drama  \n",
       "4  One Flew Over the Cuckoo's Nest (1975)  Drama  "
      ]
     },
     "execution_count": 3,
     "metadata": {},
     "output_type": "execute_result"
    }
   ],
   "source": [
    "#Merge\n",
    "\n",
    "movielens = pd.merge(pd.merge(ratings,users),movies)\n",
    "movielens.head()"
   ]
  },
  {
   "cell_type": "markdown",
   "metadata": {},
   "source": [
    "## Training and Testing\n",
    "\n",
    "1. Use a smaller dataset for testing purposes\n",
    "2. Split data into train and test datasets"
   ]
  },
  {
   "cell_type": "code",
   "execution_count": 4,
   "metadata": {
    "collapsed": false
   },
   "outputs": [
    {
     "name": "stdout",
     "output_type": "stream",
     "text": [
      "(1000209, 10)\n",
      "(10000, 10)\n"
     ]
    }
   ],
   "source": [
    "# Subset\n",
    "df = movielens.ix[np.random.choice(movielens.index,size=10000,replace=False)]\n",
    "print (movielens.shape)\n",
    "print (df.shape)"
   ]
  },
  {
   "cell_type": "code",
   "execution_count": 5,
   "metadata": {
    "collapsed": false
   },
   "outputs": [],
   "source": [
    "#Make sure that there are at least two ratings per user\n",
    "twousers = pd.value_counts(df.user_id, sort=False) > 1\n",
    "twousers2 = twousers[twousers].index\n",
    "\n",
    "df1 = df.select(lambda x: df.loc[x,'user_id'] in twousers2)"
   ]
  },
  {
   "cell_type": "code",
   "execution_count": 6,
   "metadata": {
    "collapsed": true
   },
   "outputs": [],
   "source": [
    "df1['genres'] = df1.genres.apply(lambda x : x.split('|'))"
   ]
  },
  {
   "cell_type": "code",
   "execution_count": 8,
   "metadata": {
    "collapsed": false
   },
   "outputs": [],
   "source": [
    "def assign_test_set(df):\n",
    "    sampled_ids = np.random.choice(df.index,size = np.int64(np.ceil(df.index.size*0.2)), replace = False)\n",
    "    \n",
    "    df.ix[sampled_ids, 'for_testing'] = True\n",
    "    \n",
    "    return df"
   ]
  },
  {
   "cell_type": "code",
   "execution_count": 9,
   "metadata": {
    "collapsed": false
   },
   "outputs": [],
   "source": [
    "df1['for_testing'] = False\n",
    "grouped = df1.groupby('user_id',group_keys=False).apply(assign_test_set)"
   ]
  },
  {
   "cell_type": "code",
   "execution_count": 10,
   "metadata": {
    "collapsed": false
   },
   "outputs": [
    {
     "name": "stdout",
     "output_type": "stream",
     "text": [
      "(5801, 11)\n",
      "(2641, 11)\n",
      "(8442, 11)\n"
     ]
    }
   ],
   "source": [
    "movielens_train = df1[grouped['for_testing']==False]\n",
    "movielens_test = df1[grouped['for_testing']==True]\n",
    "print (movielens_train.shape)\n",
    "print (movielens_test.shape)\n",
    "print (df1.shape)"
   ]
  },
  {
   "cell_type": "code",
   "execution_count": 11,
   "metadata": {
    "collapsed": true
   },
   "outputs": [],
   "source": [
    "#Store the data\n",
    "movielens_train.to_csv('data/my_generated_movielens_train.csv')\n",
    "movielens_test.to_csv('data/my_generated_movielens_test.csv')"
   ]
  },
  {
   "cell_type": "code",
   "execution_count": null,
   "metadata": {
    "collapsed": false
   },
   "outputs": [],
   "source": []
  },
  {
   "cell_type": "markdown",
   "metadata": {},
   "source": [
    "## Evaluation Criterion\n",
    "\n",
    "### RMSE"
   ]
  },
  {
   "cell_type": "code",
   "execution_count": 18,
   "metadata": {
    "collapsed": true
   },
   "outputs": [],
   "source": [
    "def rmse(y_pred,y_true):\n",
    "    \"\"\" Compute Mean Squared Error \"\"\"\n",
    "    return np.sqrt(np.mean(np.power(y_pred - y_true, 2)))"
   ]
  },
  {
   "cell_type": "markdown",
   "metadata": {},
   "source": [
    "### Evaluation"
   ]
  },
  {
   "cell_type": "code",
   "execution_count": 23,
   "metadata": {
    "collapsed": false
   },
   "outputs": [],
   "source": [
    "def evaluate(predictor, evaluator=rmse, similarityfunc = pearson):\n",
    "    \"\"\" Evaluates the predictor using the evaluation function \"\"\"\n",
    "    \n",
    "    ids_to_estimate = zip(movielens_test.user_id,movielens_test.movie_id)\n",
    "    estimated = np.array([predictor(u,i,similarityfunc) for u,i in ids_to_estimate])\n",
    "    true = movielens_test.rating.values\n",
    "    \n",
    "    return evaluator(estimated,true)"
   ]
  },
  {
   "cell_type": "code",
   "execution_count": null,
   "metadata": {
    "collapsed": true
   },
   "outputs": [],
   "source": [
    "def predictor(user_id,movie_id):\n",
    "    \"\"\" Single Value Prediction using the optimized prediction algorithm \"\"\"\n",
    "    \n",
    "    return 2"
   ]
  },
  {
   "cell_type": "code",
   "execution_count": null,
   "metadata": {
    "collapsed": false
   },
   "outputs": [],
   "source": [
    "evaluate(predictor)"
   ]
  },
  {
   "cell_type": "markdown",
   "metadata": {},
   "source": [
    "### Simple Recommendation Engine - Ratings' Mean"
   ]
  },
  {
   "cell_type": "code",
   "execution_count": null,
   "metadata": {
    "collapsed": false
   },
   "outputs": [],
   "source": [
    "def content_mean(user_id,movie_id):\n",
    "    \"\"\" Takes mean of every movie rating over the target user \"\"\"\n",
    "    \n",
    "    x = movielens_train.user_id == user_id\n",
    "    return movielens_train.loc[x,'rating'].mean()\n",
    "\n",
    "print (\"RMSE score for contect mean method = {}\".format(evaluate(content_mean)))"
   ]
  },
  {
   "cell_type": "code",
   "execution_count": null,
   "metadata": {
    "collapsed": false
   },
   "outputs": [],
   "source": [
    "df1.head(1)"
   ]
  },
  {
   "cell_type": "code",
   "execution_count": null,
   "metadata": {
    "collapsed": false
   },
   "outputs": [],
   "source": []
  },
  {
   "cell_type": "markdown",
   "metadata": {},
   "source": [
    "## Mean + Gender based filtering"
   ]
  },
  {
   "cell_type": "code",
   "execution_count": null,
   "metadata": {
    "collapsed": false
   },
   "outputs": [],
   "source": [
    "user_info = users.set_index('user_id')\n",
    "\n",
    "\n",
    "def collab_gender(user_id, movie_id):\n",
    "    \"\"\" Collaborative filtering using an implicit sim(u,u') based on gender. \"\"\"\n",
    "    \n",
    "    user_condition = movielens_train.user_id != user_id\n",
    "    movie_condition = movielens_train.movie_id == movie_id\n",
    "    ratings_by_others = movielens_train.loc[user_condition & movie_condition]\n",
    "    if ratings_by_others.empty: \n",
    "        return 3.0\n",
    "    \n",
    "    means_by_gender = ratings_by_others.pivot_table('rating', index='movie_id', columns='gender')\n",
    "    user_gender = user_info.ix[user_id, 'gender']\n",
    "    if user_gender in means_by_gender.columns: \n",
    "        return means_by_gender.ix[movie_id, user_gender]\n",
    "    else:\n",
    "        return means_by_gender.ix[movie_id].mean()\n",
    "\n",
    "print ('RMSE for collab_gender: {}'.format(evaluate(collab_gender)))"
   ]
  },
  {
   "cell_type": "markdown",
   "metadata": {},
   "source": [
    "### Class with an implicit functionsfor aggregation"
   ]
  },
  {
   "cell_type": "code",
   "execution_count": null,
   "metadata": {
    "collapsed": false
   },
   "outputs": [],
   "source": [
    "class CollabGenderReco:\n",
    "    \"\"\" Collaborative filtering using an implicit sim(u,u'). \"\"\"\n",
    "\n",
    "    def learn(self):\n",
    "        \"\"\" Prepare datastructures for estimation. \"\"\"\n",
    "        \n",
    "        self.means_by_gender = movielens_train.pivot_table('rating', index='movie_id', columns='gender')\n",
    "\n",
    "    def estimate(self, user_id, movie_id):\n",
    "        \"\"\" Mean ratings by other users of the same gender. \"\"\"\n",
    "        \n",
    "        if movie_id not in self.means_by_gender.index: \n",
    "            return 3.0\n",
    "        \n",
    "        user_gender = user_info.ix[user_id, 'gender']\n",
    "        if ~np.isnan(self.means_by_gender.ix[movie_id, user_gender]):\n",
    "            return self.means_by_gender.ix[movie_id, user_gender]\n",
    "        else:\n",
    "            return self.means_by_gender.ix[movie_id].mean()\n",
    "\n",
    "reco = CollabGenderReco()\n",
    "reco.learn()\n",
    "print ('RMSE for CollabGenderReco: {}'.format(evaluate(collab_gender)))"
   ]
  },
  {
   "cell_type": "markdown",
   "metadata": {},
   "source": [
    "## Mean + Genre based filtering"
   ]
  },
  {
   "cell_type": "code",
   "execution_count": null,
   "metadata": {
    "collapsed": false
   },
   "outputs": [],
   "source": [
    "def listmatcher(list1,list2):\n",
    "    \"\"\" Compares two lists are created fraction depending on their common elements \"\"\"\n",
    "    l = []\n",
    "    for i in list1:\n",
    "        for j in list2:\n",
    "                if i == j:\n",
    "                    l.append(i)\n",
    "    \n",
    "    return len(l)*1.0/len(list1)\n",
    "\n",
    "def collab_genre(user_id, movie_id):\n",
    "    \"\"\" Collaborative filtering using an implicit sim(u,u') based on gender. \"\"\"\n",
    "    \n",
    "    user_condition = movielens_train.user_id != user_id\n",
    "    movie_condition = movielens_train.movie_id == movie_id\n",
    "    user_condition2 = movielens_train.user_id == user_id\n",
    "    \n",
    "    ratings_by_others = movielens_train.loc[user_condition & movie_condition]\n",
    "    if ratings_by_others.empty: \n",
    "        return 3.0\n",
    "    user_genres = movielens_train.loc[user_condition2 & movie_condition, 'genres'] # User's genres\n",
    "    \n",
    "    means_by_gender = ratings_by_others.pivot_table('rating', index='movie_id', columns='gender')\n",
    "    user_gender = user_info.ix[user_id, 'gender']\n",
    "    if user_gender in means_by_gender.columns: \n",
    "        return means_by_gender.ix[movie_id, user_gender]\n",
    "    else:\n",
    "        return means_by_gender.ix[movie_id].mean()\n",
    "\n",
    "print ('RMSE for collab_gender: {}'.format(evaluate(collab_gender)))"
   ]
  },
  {
   "cell_type": "code",
   "execution_count": null,
   "metadata": {
    "collapsed": false
   },
   "outputs": [],
   "source": [
    "user_id = 1527\n",
    "movie_id = 2443"
   ]
  },
  {
   "cell_type": "code",
   "execution_count": null,
   "metadata": {
    "collapsed": true
   },
   "outputs": [],
   "source": [
    "def listmatcher(list1,list2):\n",
    "    \"\"\" Compares two lists are created fraction depending on their common elements \"\"\"\n",
    "    l = []\n",
    "    for i in list1:\n",
    "        for j in list2:\n",
    "                if i == j:\n",
    "                    l.append(i)\n",
    "    \n",
    "    return len(l)*1.0/len(list1)"
   ]
  },
  {
   "cell_type": "code",
   "execution_count": null,
   "metadata": {
    "collapsed": false
   },
   "outputs": [],
   "source": [
    "user_condition = movielens_train.user_id != user_id\n",
    "movie_condition = movielens_train.movie_id == movie_id\n",
    "user_condition2 = movielens_train.user_id == user_id"
   ]
  },
  {
   "cell_type": "code",
   "execution_count": null,
   "metadata": {
    "collapsed": true
   },
   "outputs": [],
   "source": [
    "ratings_by_others = movielens_train.loc[user_condition]"
   ]
  },
  {
   "cell_type": "code",
   "execution_count": null,
   "metadata": {
    "collapsed": false
   },
   "outputs": [],
   "source": [
    "user_genres = movielens_train.loc[user_condition2 & movie_condition, 'genres'].iloc[0]"
   ]
  },
  {
   "cell_type": "code",
   "execution_count": null,
   "metadata": {
    "collapsed": false
   },
   "outputs": [],
   "source": [
    "# ratings_by_others['GenreScore'] = 0.0\n",
    "# for i in range(len(ratings_by_others)):\n",
    "#     ratings_by_others['GenreScore'].iloc[i] = listmatcher(user_genres,ratings_by_others['genres'].iloc[i])"
   ]
  },
  {
   "cell_type": "code",
   "execution_count": null,
   "metadata": {
    "collapsed": false
   },
   "outputs": [],
   "source": [
    "# ratings_by_others"
   ]
  },
  {
   "cell_type": "markdown",
   "metadata": {},
   "source": [
    "## Custom Similarity Functions\n",
    "\n",
    "** Custom similarity functions can be used to measure 'similarity' betweeen two persons for collaborative recommender systems **\n",
    "* Euclidean Similarity\n",
    "$$ sim(x,y) = \\frac{1}{1 + \\sqrt{\\sum (x - y)^2}}$$"
   ]
  },
  {
   "cell_type": "code",
   "execution_count": 12,
   "metadata": {
    "collapsed": true
   },
   "outputs": [],
   "source": [
    "def euclidean(s1, s2):\n",
    "    \"\"\"Take two pd.Series objects and return their euclidean 'similarity'.\"\"\"\n",
    "    diff = s1 - s2\n",
    "    return 1 / (1 + np.sqrt(np.sum(diff ** 2)))"
   ]
  },
  {
   "cell_type": "markdown",
   "metadata": {},
   "source": [
    "- Cosine similarity\n",
    "\n",
    "$$ sim(x,y) = \\frac{(x . y)}{\\sqrt{(x . x) (y . y)}} $$"
   ]
  },
  {
   "cell_type": "code",
   "execution_count": 13,
   "metadata": {
    "collapsed": true
   },
   "outputs": [],
   "source": [
    "def cosine(s1, s2):\n",
    "    \"\"\"Take two pd.Series objects and return their cosine similarity.\"\"\"\n",
    "    return np.sum(s1 * s2) / np.sqrt(np.sum(s1 ** 2) * np.sum(s2 ** 2))"
   ]
  },
  {
   "cell_type": "markdown",
   "metadata": {},
   "source": [
    "- Pearson correlation\n",
    "\n",
    "$$ sim(x,y) = \\frac{(x - \\bar x).(y - \\bar y)}{\\sqrt{(x - \\bar x).(x - \\bar x) * (y - \\bar y)(y - \\bar y)}} $$"
   ]
  },
  {
   "cell_type": "code",
   "execution_count": 14,
   "metadata": {
    "collapsed": true
   },
   "outputs": [],
   "source": [
    "def pearson(s1, s2):\n",
    "    \"\"\"Take two pd.Series objects and return a pearson correlation.\"\"\"\n",
    "    s1_c = s1 - s1.mean()\n",
    "    s2_c = s2 - s2.mean()\n",
    "    return np.sum(s1_c * s2_c) / np.sqrt(np.sum(s1_c ** 2) * np.sum(s2_c ** 2))"
   ]
  },
  {
   "cell_type": "markdown",
   "metadata": {},
   "source": [
    "- Jaccard similarity\n",
    "\n",
    "$$ sim(x,y) = \\frac{(x . y)}{(x . x) + (y . y) - (x . y)} $$"
   ]
  },
  {
   "cell_type": "code",
   "execution_count": 15,
   "metadata": {
    "collapsed": true
   },
   "outputs": [],
   "source": [
    "def jaccard(s1, s2):\n",
    "    dotp = np.sum(s1 * s2)\n",
    "    return dotp / (np.sum(s1 ** 2) + np.sum(s2 ** 2) - dotp)\n",
    "\n",
    "def binjaccard(s1, s2):\n",
    "    dotp = (s1.index & s2.index).size\n",
    "    return dotp / (s1.sum() + s2.sum() - dotp)"
   ]
  },
  {
   "cell_type": "code",
   "execution_count": 24,
   "metadata": {
    "collapsed": false
   },
   "outputs": [
    {
     "name": "stderr",
     "output_type": "stream",
     "text": [
      "C:\\Users\\Nachiket\\Anaconda3\\lib\\site-packages\\ipykernel\\__main__.py:5: RuntimeWarning: invalid value encountered in double_scalars\n"
     ]
    },
    {
     "name": "stdout",
     "output_type": "stream",
     "text": [
      "RMSE for Pearson - CollabReco: 1.08629365954674\n",
      "RMSE for Euclidean - CollabReco: 1.0197094450339468\n",
      "RMSE for Cosine - CollabReco: 1.1464737191831096\n"
     ]
    }
   ],
   "source": [
    "class CollabReco:\n",
    "    \"\"\" Collaborative filtering using a custom sim(u,u'). \"\"\"\n",
    "\n",
    "    def learn(self):\n",
    "        \"\"\" Prepare datastructures for estimation. \"\"\"\n",
    "        \n",
    "        self.all_user_profiles = df1.pivot_table('rating', index='movie_id', columns='user_id')\n",
    "\n",
    "    def estimate(self, user_id, movie_id, similarityfunc = pearson):\n",
    "        \"\"\" Ratings weighted by correlation similarity. \"\"\"\n",
    "        \n",
    "        user_condition = movielens_train.user_id != user_id\n",
    "        movie_condition = movielens_train.movie_id == movie_id\n",
    "        ratings_by_others = movielens_train.loc[user_condition & movie_condition]\n",
    "        if ratings_by_others.empty: \n",
    "            return 3.0\n",
    "        \n",
    "        ratings_by_others.set_index('user_id', inplace=True)\n",
    "        their_ids = ratings_by_others.index\n",
    "        their_ratings = ratings_by_others.rating\n",
    "        their_profiles = self.all_user_profiles[their_ids]\n",
    "        user_profile = self.all_user_profiles[user_id]\n",
    "        sims = their_profiles.apply(lambda profile: similarityfunc(profile, user_profile), axis=0)\n",
    "        ratings_sims = pd.DataFrame({'sim': sims, 'rating': their_ratings})\n",
    "        ratings_sims = ratings_sims[ratings_sims.sim > 0]\n",
    "        if ratings_sims.empty:\n",
    "            return their_ratings.mean()\n",
    "        else:\n",
    "            return np.average(ratings_sims.rating, weights=ratings_sims.sim)\n",
    "        \n",
    "reco = CollabReco()\n",
    "reco.learn()\n",
    "print ('RMSE for Pearson - CollabReco: {}'.format(evaluate(reco.estimate)))\n",
    "print ('RMSE for Euclidean - CollabReco: {}'.format(evaluate(reco.estimate,similarityfunc=euclidean)))\n",
    "print ('RMSE for Cosine - CollabReco: {}'.format(evaluate(reco.estimate,similarityfunc=cosine)))"
   ]
  }
 ],
 "metadata": {
  "kernelspec": {
   "display_name": "Python 3",
   "language": "python",
   "name": "python3"
  },
  "language_info": {
   "codemirror_mode": {
    "name": "ipython",
    "version": 3
   },
   "file_extension": ".py",
   "mimetype": "text/x-python",
   "name": "python",
   "nbconvert_exporter": "python",
   "pygments_lexer": "ipython3",
   "version": "3.6.0"
  }
 },
 "nbformat": 4,
 "nbformat_minor": 2
}
