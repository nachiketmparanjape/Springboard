{
 "cells": [
  {
   "cell_type": "markdown",
   "metadata": {},
   "source": [
    "#### K-means is not always a good option.\n",
    "\n",
    "1. Choosing K is not always easy\n",
    "2. It can only find spherical, convex clusters only\n",
    "\n",
    "\n",
    "##### Links -\n",
    "* [Video](https://youtu.be/5cOhL4B5waU \"YouTube\")\n",
    "* [Notebook - DBSCAN](http://nbviewer.jupyter.org/github/papayawarrior/public_talks/blob/master/pydata_nyc_dbscan.ipynb \"Open the damn link\")\n",
    "* [Notebook - DeBaCl](http://nbviewer.jupyter.org/github/papayawarrior/public_talks/blob/master/pydata_nyc_DeBaCl.ipynb \"Nothing here\")"
   ]
  },
  {
   "cell_type": "markdown",
   "metadata": {},
   "source": [
    "# Density Based Clustering\n",
    "\n",
    "** Assumption - Data is drawn from a PDF **\n",
    "Find connected componensts - intersect data with the connected components, assigns points accordingly\n",
    "\n",
    "** Pros **\n",
    "* Recovers more complex cluster shapes\n",
    "* Don't need to know k\n",
    "* Automatically finds outliers\n",
    "\n",
    "** Cons **\n",
    "* Requires a distance function\n",
    "* Not as scalable as K-means\n",
    "\n",
    "## 1. DBSCAN\n",
    "*Density-Based Spatial Clustering Applications with Noise*\n",
    "\n",
    "** Main Idea **\n",
    "* Three types of points (classify) : core, boundry, noise\n",
    "* Core - connect core points to clusters\n",
    "* Assign boundary points\n",
    "\n",
    "#### Set up and generate data"
   ]
  },
  {
   "cell_type": "code",
   "execution_count": 1,
   "metadata": {
    "collapsed": true
   },
   "outputs": [],
   "source": [
    "import matplotlib.pyplot as plt\n",
    "from sklearn.datasets import make_moons\n",
    "from sklearn.cluster import DBSCAN\n",
    "\n",
    "plt.style.use('ggplot')\n",
    "%matplotlib inline"
   ]
  },
  {
   "cell_type": "code",
   "execution_count": 40,
   "metadata": {
    "collapsed": false
   },
   "outputs": [
    {
     "name": "stdout",
     "output_type": "stream",
     "text": [
      "[[ 1.53007406 -0.15786408]\n",
      " [ 0.86956828 -0.47641119]\n",
      " [ 0.41521986  0.97604543]\n",
      " [ 0.31850869  0.96358885]\n",
      " [ 1.10556956  0.01200665]]\n"
     ]
    }
   ],
   "source": [
    "label = make_moons(n_samples=200, noise=0.1, random_state=19)[1]\n",
    "X = make_moons(n_samples=100, noise=0.1, random_state=19)[0]\n",
    "print (X[:5,])"
   ]
  },
  {
   "cell_type": "markdown",
   "metadata": {},
   "source": [
    "#### Train\n",
    "*Parameters*\n",
    "1. eps - Size of the neighbourhood around each point\n",
    "2. min_samples - Number of samples needed to be around to be able to pick it (Density level threshold)"
   ]
  },
  {
   "cell_type": "code",
   "execution_count": 22,
   "metadata": {
    "collapsed": false
   },
   "outputs": [
    {
     "name": "stdout",
     "output_type": "stream",
     "text": [
      "DBSCAN(algorithm='auto', eps=0.2, leaf_size=30, metric='euclidean',\n",
      "    min_samples=6, n_jobs=1, p=None)\n"
     ]
    }
   ],
   "source": [
    "model = DBSCAN(eps=0.2, min_samples=6).fit(X)\n",
    "print(model)"
   ]
  },
  {
   "cell_type": "code",
   "execution_count": 5,
   "metadata": {
    "collapsed": false
   },
   "outputs": [
    {
     "data": {
      "text/plain": [
       "array([ 0,  1,  0,  0,  0,  0,  1,  0,  1,  1,  0,  0,  0,  1,  0,  1,  0,\n",
       "        1,  1,  1,  1,  0,  0,  1,  1,  0,  0,  1,  1,  1,  0,  0,  0,  0,\n",
       "        0,  1,  0,  1,  0,  1,  1,  0,  0,  1,  0,  1,  0,  1,  0,  1,  1,\n",
       "        1,  1,  1,  1,  1,  1,  1,  0,  0,  1,  1,  0,  1,  0,  0,  0,  0,\n",
       "        0,  0,  1,  0,  0,  1, -1,  1,  0,  1,  1,  1,  0,  1,  0,  0,  1,\n",
       "        1,  0,  0,  1,  0,  0,  0,  0,  0,  0,  1,  0,  1,  1,  0,  1,  1,\n",
       "        0,  0,  0,  1,  1,  1,  1,  0,  0,  0,  1,  1,  1,  1,  1,  0,  0,\n",
       "        0,  1,  0,  1,  1,  1,  0,  0,  0,  0,  0,  1,  1,  1,  1,  1,  1,\n",
       "        1,  1,  1,  1,  1,  0,  0,  1,  1,  0,  0,  1,  1,  0,  0,  1,  1,\n",
       "        1,  1,  1,  1,  0,  1,  1,  1,  0,  0,  0,  1,  0,  1,  1,  0,  0,\n",
       "        0,  0,  1,  0,  1,  0,  0,  0,  0,  0,  0,  1,  1,  0,  0,  0,  0,\n",
       "        1,  1,  0,  1,  0,  1,  0,  0,  0,  1,  0,  1,  0], dtype=int64)"
      ]
     },
     "execution_count": 5,
     "metadata": {},
     "output_type": "execute_result"
    }
   ],
   "source": [
    "model.labels_"
   ]
  },
  {
   "cell_type": "code",
   "execution_count": 6,
   "metadata": {
    "collapsed": false
   },
   "outputs": [
    {
     "data": {
      "text/plain": [
       "array([  0,   1,   2,   7,   9,  10,  12,  13,  14,  18,  20,  21,  22,\n",
       "        23,  24,  26,  28,  29,  31,  32,  33,  34,  35,  37,  38,  39,\n",
       "        40,  41,  42,  44,  45,  46,  47,  49,  50,  51,  55,  56,  57,\n",
       "        58,  59,  60,  62,  63,  64,  65,  66,  67,  68,  69,  70,  71,\n",
       "        73,  75,  76,  77,  78,  79,  81,  83,  84,  86,  87,  88,  89,\n",
       "        91,  92,  93,  94,  96,  98, 101, 102, 104, 105, 106, 107, 108,\n",
       "       109, 110, 112, 113, 114, 115, 117, 118, 119, 121, 122, 123, 124,\n",
       "       125, 126, 127, 128, 129, 130, 131, 134, 136, 137, 138, 139, 140,\n",
       "       142, 143, 144, 145, 147, 148, 149, 150, 154, 155, 157, 158, 159,\n",
       "       160, 162, 163, 164, 165, 166, 170, 172, 173, 175, 177, 180, 182,\n",
       "       183, 184, 187, 188, 189, 190, 191, 195, 197], dtype=int64)"
      ]
     },
     "execution_count": 6,
     "metadata": {},
     "output_type": "execute_result"
    }
   ],
   "source": [
    "model.core_sample_indices_"
   ]
  },
  {
   "cell_type": "code",
   "execution_count": 28,
   "metadata": {
    "collapsed": false
   },
   "outputs": [
    {
     "data": {
      "text/plain": [
       "<matplotlib.collections.PathCollection at 0xb2c2860>"
      ]
     },
     "execution_count": 28,
     "metadata": {},
     "output_type": "execute_result"
    },
    {
     "data": {
      "image/png": "[encoded data removed]",
      "text/plain": [
       "<matplotlib.figure.Figure at 0xb2c27f0>"
      ]
     },
     "metadata": {},
     "output_type": "display_data"
    }
   ],
   "source": [
    "fig, ax = plt.subplots(figsize=(8,6))\n",
    "ax.scatter(X[:,0],X[:,1],c=model.labels_,alpha=0.6,cmap=plt.cm.Accent,s=100)"
   ]
  },
  {
   "cell_type": "markdown",
   "metadata": {},
   "source": [
    "### DBSCAN in GraphLab Create\n",
    "\n",
    "* Build on scalable *SFrame* and *Sgraph* data structures\n",
    "* *Composite distances* for varied feature types\n",
    "* Directly construct a similarity graph directly (now Scikit Learn is free to use)\n",
    "\n",
    "Not free but free for non-commercial use. Refer to the Jupyter notebook from the links"
   ]
  },
  {
   "cell_type": "markdown",
   "metadata": {},
   "source": [
    "## 2. Level Set Trees\n",
    "\n",
    "#### In DBSCAN,\n",
    "1. How do you choose the density level? (min_neighbours)\n",
    "2. changing levels means starting from scratch\n",
    "\n",
    "#### Level Set Trees (LSTs)\n",
    "They describe the entire hierarchy\n",
    "* Retrieve clusters in different ways without re-computing\n",
    "* Each cluster can have a different density level\n",
    "* Visualization of high-dim or complex data structure\n",
    "\n",
    "### Building LSTs\n",
    "1. Estimate PDF at each data point\n",
    "2. Contruct a (k-NN) similarity graph on the data\n",
    "    * Vertices are data points\n",
    "    * Edges represent near neighbours\n",
    "3. Remove vertices in order of estimated density\n",
    "4. Compute the connected components at each level\n",
    "    * Keep track of components between levels"
   ]
  },
  {
   "cell_type": "code",
   "execution_count": 36,
   "metadata": {
    "collapsed": false
   },
   "outputs": [],
   "source": [
    "import debacl as dcl"
   ]
  },
  {
   "cell_type": "markdown",
   "metadata": {},
   "source": [
    "##### Parameters\n",
    "1. k - connectivity. analogus to eps\n",
    "2. Pruning threshold - If a leaf as more than n points, just merge it\n",
    "\n",
    "Note - This module is not yet available with Python 3. I'll run the code whenever it is available"
   ]
  },
  {
   "cell_type": "code",
   "execution_count": 42,
   "metadata": {
    "collapsed": false
   },
   "outputs": [],
   "source": [
    "# Use it on the same make_moons data\n",
    "# tree = dcl.construct_tree(X, k=10, prune_threshold=10)\n",
    "# print (tree)"
   ]
  },
  {
   "cell_type": "code",
   "execution_count": 43,
   "metadata": {
    "collapsed": true
   },
   "outputs": [],
   "source": [
    "# fig = tree.plot(form='density')[0]"
   ]
  },
  {
   "cell_type": "markdown",
   "metadata": {},
   "source": [
    "### Retrieving the clusters"
   ]
  },
  {
   "cell_type": "code",
   "execution_count": 44,
   "metadata": {
    "collapsed": true
   },
   "outputs": [],
   "source": [
    "# labels = tree.get_clusters(method='leaf', \n",
    "#                            fill_background=False)\n",
    "# labels[:5]"
   ]
  },
  {
   "cell_type": "code",
   "execution_count": 45,
   "metadata": {
    "collapsed": true
   },
   "outputs": [],
   "source": [
    "# with plt.style.context(('ggplot')):\n",
    "#     fig, ax = plt.subplots()\n",
    "    \n",
    "#     ax.scatter(X[labels[:,0], 0], X[labels[:,0], 1],\n",
    "#                c=labels[:,1], s=140, alpha=0.9,\n",
    "#                cmap=plt.cm.Set1)"
   ]
  },
  {
   "cell_type": "code",
   "execution_count": 46,
   "metadata": {
    "collapsed": true
   },
   "outputs": [],
   "source": [
    "# import numpy as np\n",
    "# leaf_nodes = np.unique(labels[:, 1])\n",
    "\n",
    "# plot = tree.plot(form='density', color_nodes=leaf_nodes,\n",
    "#                  colormap='Set1')\n",
    "# fig = plot[0]"
   ]
  },
  {
   "cell_type": "markdown",
   "metadata": {},
   "source": [
    "### Identifying Outliers"
   ]
  },
  {
   "cell_type": "code",
   "execution_count": 47,
   "metadata": {
    "collapsed": true
   },
   "outputs": [],
   "source": [
    "# labels2 = tree.get_clusters(method='upper-level-set', threshold=0.05,\n",
    "#                             form='mass')\n",
    "\n",
    "# outliers = list(set(range(len(X))).difference(labels2[:, 0]))\n",
    "# outliers"
   ]
  },
  {
   "cell_type": "code",
   "execution_count": 48,
   "metadata": {
    "collapsed": true
   },
   "outputs": [],
   "source": [
    "# with plt.style.context(('ggplot')):\n",
    "#     fig, ax = plt.subplots()\n",
    "    \n",
    "#     ax.scatter(X[labels[:,0], 0], X[labels[:,0], 1], \n",
    "#                c=labels[:,1], s=140, alpha=0.9,\n",
    "#                cmap=plt.cm.Set1)\n",
    "    \n",
    "#     ax.scatter(X[outliers, 0], X[outliers, 1], c='black', s=140,\n",
    "#                alpha=0.9)"
   ]
  }
 ],
 "metadata": {
  "kernelspec": {
   "display_name": "Python 3",
   "language": "python",
   "name": "python3"
  },
  "language_info": {
   "codemirror_mode": {
    "name": "ipython",
    "version": 3
   },
   "file_extension": ".py",
   "mimetype": "text/x-python",
   "name": "python",
   "nbconvert_exporter": "python",
   "pygments_lexer": "ipython3",
   "version": "3.6.0"
  }
 },
 "nbformat": 4,
 "nbformat_minor": 2
}
