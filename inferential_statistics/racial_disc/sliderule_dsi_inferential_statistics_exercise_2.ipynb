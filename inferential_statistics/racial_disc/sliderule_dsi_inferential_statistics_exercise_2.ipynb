{
 "cells": [
  {
   "cell_type": "markdown",
   "metadata": {},
   "source": [
    "# Examining Racial Discrimination in the US Job Market\n",
    "\n",
    "### Background\n",
    "Racial discrimination continues to be pervasive in cultures throughout the world. Researchers examined the level of racial discrimination in the United States labor market by randomly assigning identical résumés to black-sounding or white-sounding names and observing the impact on requests for interviews from employers.\n",
    "\n",
    "### Data\n",
    "In the dataset provided, each row represents a resume. The 'race' column has two values, 'b' and 'w', indicating black-sounding and white-sounding. The column 'call' has two values, 1 and 0, indicating whether the resume received a call from employers or not.\n",
    "\n",
    "Note that the 'b' and 'w' values in race are assigned randomly to the resumes when presented to the employer."
   ]
  },
  {
   "cell_type": "markdown",
   "metadata": {},
   "source": [
    "<div class=\"span5 alert alert-info\">\n",
    "### Exercises\n",
    "You will perform a statistical analysis to establish whether race has a significant impact on the rate of callbacks for resumes.\n",
    "\n",
    "Answer the following questions **in this notebook below and submit to your Github account**. \n",
    "\n",
    "   1. What test is appropriate for this problem? Does CLT apply?\n",
    "   2. What are the null and alternate hypotheses?\n",
    "   3. Compute margin of error, confidence interval, and p-value.\n",
    "   4. Write a story describing the statistical significance in the context or the original problem.\n",
    "   5. Does your analysis mean that race/name is the most important factor in callback success? Why or why not? If not, how would you amend your analysis?\n",
    "\n",
    "You can include written notes in notebook cells using Markdown: \n",
    "   - In the control panel at the top, choose Cell > Cell Type > Markdown\n",
    "   - Markdown syntax: http://nestacms.com/docs/creating-content/markdown-cheat-sheet\n",
    "\n",
    "\n",
    "#### Resources\n",
    "+ Experiment information and data source: http://www.povertyactionlab.org/evaluation/discrimination-job-market-united-states\n",
    "+ Scipy statistical methods: http://docs.scipy.org/doc/scipy/reference/stats.html \n",
    "+ Markdown syntax: http://nestacms.com/docs/creating-content/markdown-cheat-sheet\n",
    "</div>\n",
    "****"
   ]
  },
  {
   "cell_type": "code",
   "execution_count": 1,
   "metadata": {
    "collapsed": true
   },
   "outputs": [],
   "source": [
    "import pandas as pd\n",
    "import numpy as np\n",
    "from scipy import stats"
   ]
  },
  {
   "cell_type": "code",
   "execution_count": 2,
   "metadata": {
    "collapsed": false
   },
   "outputs": [],
   "source": [
    "data = pd.io.stata.read_stata('data/us_job_market_discrimination.dta')"
   ]
  },
  {
   "cell_type": "code",
   "execution_count": 3,
   "metadata": {
    "collapsed": false
   },
   "outputs": [
    {
     "data": {
      "text/plain": [
       "157.0"
      ]
     },
     "execution_count": 3,
     "metadata": {},
     "output_type": "execute_result"
    }
   ],
   "source": [
    "# number of callbacks for black-sounding names\n",
    "sum(data[data.race=='b'].call)"
   ]
  },
  {
   "cell_type": "code",
   "execution_count": 4,
   "metadata": {
    "collapsed": false
   },
   "outputs": [],
   "source": [
    "#data.head()"
   ]
  },
  {
   "cell_type": "code",
   "execution_count": 19,
   "metadata": {
    "collapsed": false
   },
   "outputs": [
    {
     "name": "stdout",
     "output_type": "stream",
     "text": [
      "Sample size for black = 2435, sample size for white = 2435\n"
     ]
    }
   ],
   "source": [
    "sample = data[['race','call']]\n",
    "black = sample['call'][sample.race == 'b']\n",
    "white = sample['call'][sample.race == 'w']\n",
    "print (\"Sample size for black = {}, sample size for white = {}\".format(len(black),len(white)))"
   ]
  },
  {
   "cell_type": "markdown",
   "metadata": {
    "collapsed": true
   },
   "source": [
    "** We will use two-sample z-test for this problem **\n",
    "\n",
    "Also CLT does not apply to the actual distribution (It'll be binomial?) but applies to the sampling distribution.\n",
    "\n",
    "### Hypotheses\n",
    "\n",
    "* *Null* - Population means of the 'call' for black and white races is same.\n",
    "* *Alternate* - There is a difference between the means of the corresponding populations\n",
    "\n",
    "### Z - Test"
   ]
  },
  {
   "cell_type": "code",
   "execution_count": 20,
   "metadata": {
    "collapsed": false
   },
   "outputs": [],
   "source": [
    "from statsmodels.stats.weightstats import ztest\n",
    "z = ztest(white,black, value=0, alternative='two-sided', usevar='pooled')"
   ]
  },
  {
   "cell_type": "markdown",
   "metadata": {},
   "source": [
    "#### Test Statistic and Confidence Interval\n",
    "\n",
    "Now that we have Z-test statistic, we can calculate the confidence interval using following information -\n",
    "\n",
    "1. Z-Statistic\n",
    "2. Population Mean (difference between means of the two samples)\n",
    "3. Population Standard Deviation"
   ]
  },
  {
   "cell_type": "code",
   "execution_count": 34,
   "metadata": {
    "collapsed": false
   },
   "outputs": [
    {
     "name": "stdout",
     "output_type": "stream",
     "text": [
      "1. Z-Statistic = 4.114705356750735\n",
      "2. Mean = 0.03203285485506058\n",
      "3. Std = 0.00778337058606343\n",
      "\n",
      "Calculating Confidence Interval ..\n",
      "\n",
      "Upper - 0.0641\n",
      "Lower limit - 6.6e-06\n"
     ]
    }
   ],
   "source": [
    "from math import sqrt\n",
    "zstat = z[0]\n",
    "print (\"1. Z-Statistic = {}\".format(z[0]))\n",
    "mean1 = white.mean()\n",
    "mean2 = black.mean()\n",
    "mean = mean1 - mean2\n",
    "print (\"2. Mean = {}\".format(mean))\n",
    "std = sqrt( (mean1*(1-mean1)/len(white)) + (mean2*(1-mean2)/len(black)) )\n",
    "print (\"3. Std = {}\".format(std))\n",
    "\n",
    "print (\"\\nCalculating Confidence Interval ..\\n\")\n",
    "print (\"Upper - {}\".format(round((mean + zstat * std),4)))\n",
    "print (\"Lower limit - {}\".format(round((mean - zstat * std),7)))"
   ]
  },
  {
   "cell_type": "markdown",
   "metadata": {},
   "source": [
    "It is observed that even in the most fair scenario, there is a very slight racial advantage to white.\n",
    "\n",
    "#### p-value and hypothesis testing\n",
    "\n",
    "We can set our threshold to 5% and see perform the hypothesis test"
   ]
  },
  {
   "cell_type": "code",
   "execution_count": 36,
   "metadata": {
    "collapsed": false
   },
   "outputs": [
    {
     "name": "stdout",
     "output_type": "stream",
     "text": [
      "p-value is 3.9e-05, which is lesser than 5% by a decent margin. We can thus reject our null hypothesis.\n"
     ]
    }
   ],
   "source": [
    "print (\"p-value is {}, which is lesser than 5% by a decent margin. We can thus reject our null hypothesis.\".format(round(z[1],6)))"
   ]
  },
  {
   "cell_type": "markdown",
   "metadata": {},
   "source": [
    "** We can thus infer from this study that race, to some degree, does affect the probability of call-back for similarly qualified candidates in American labour market. **"
   ]
  }
 ],
 "metadata": {
  "kernelspec": {
   "display_name": "Python 3",
   "language": "python",
   "name": "python3"
  },
  "language_info": {
   "codemirror_mode": {
    "name": "ipython",
    "version": 3
   },
   "file_extension": ".py",
   "mimetype": "text/x-python",
   "name": "python",
   "nbconvert_exporter": "python",
   "pygments_lexer": "ipython3",
   "version": "3.6.0"
  }
 },
 "nbformat": 4,
 "nbformat_minor": 0
}
