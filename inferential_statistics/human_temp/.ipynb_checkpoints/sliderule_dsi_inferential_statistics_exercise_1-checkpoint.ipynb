{
 "cells": [
  {
   "cell_type": "markdown",
   "metadata": {},
   "source": [
    "# What is the True Normal Human Body Temperature? \n",
    "\n",
    "#### Background\n",
    "\n",
    "The mean normal body temperature was held to be 37$^{\\circ}$C or 98.6$^{\\circ}$F for more than 120 years since it was first conceptualized and reported by Carl Wunderlich in a famous 1868 book. But, is this value statistically correct?"
   ]
  },
  {
   "cell_type": "markdown",
   "metadata": {},
   "source": [
    "<div class=\"span5 alert alert-info\">\n",
    "<h3>Exercises</h3>\n",
    "\n",
    "<p>In this exercise, you will analyze a dataset of human body temperatures and employ the concepts of hypothesis testing, confidence intervals, and statistical significance.</p>\n",
    "\n",
    "<p>Answer the following questions <b>in this notebook below and submit to your Github account</b>.</p> \n",
    "\n",
    "<ol>\n",
    "<li>  Is the distribution of body temperatures normal? \n",
    "    <ul>\n",
    "    <li> Although this is not a requirement for CLT to hold (read CLT carefully), it gives us some peace of mind that the population may also be normally distributed if we assume that this sample is representative of the population.\n",
    "    </ul>\n",
    "<li>  Is the sample size large? Are the observations independent?\n",
    "    <ul>\n",
    "    <li> Remember that this is a condition for the CLT, and hence the statistical tests we are using, to apply.\n",
    "    </ul>\n",
    "<li>  Is the true population mean really 98.6 degrees F?\n",
    "    <ul>\n",
    "    <li> Would you use a one-sample or two-sample test? Why?\n",
    "    <li> In this situation, is it appropriate to use the $t$ or $z$ statistic? \n",
    "    <li> Now try using the other test. How is the result be different? Why?\n",
    "    </ul>\n",
    "<li>  At what temperature should we consider someone's temperature to be \"abnormal\"?\n",
    "    <ul>\n",
    "    <li> Start by computing the margin of error and confidence interval.\n",
    "    </ul>\n",
    "<li>  Is there a significant difference between males and females in normal temperature?\n",
    "    <ul>\n",
    "    <li> What test did you use and why?\n",
    "    <li> Write a story with your conclusion in the context of the original problem.\n",
    "    </ul>\n",
    "</ol>\n",
    "\n",
    "You can include written notes in notebook cells using Markdown: \n",
    "   - In the control panel at the top, choose Cell > Cell Type > Markdown\n",
    "   - Markdown syntax: http://nestacms.com/docs/creating-content/markdown-cheat-sheet\n",
    "\n",
    "#### Resources\n",
    "\n",
    "+ Information and data sources: http://www.amstat.org/publications/jse/datasets/normtemp.txt, http://www.amstat.org/publications/jse/jse_data_archive.htm\n",
    "+ Markdown syntax: http://nestacms.com/docs/creating-content/markdown-cheat-sheet\n",
    "\n",
    "****\n",
    "</div>"
   ]
  },
  {
   "cell_type": "code",
   "execution_count": 24,
   "metadata": {
    "collapsed": true
   },
   "outputs": [],
   "source": [
    "import pandas as pd\n",
    "import matplotlib.pyplot as plt\n",
    "import math\n",
    "% matplotlib inline\n",
    "\n",
    "df = pd.read_csv('data/human_body_temperature.csv')"
   ]
  },
  {
   "cell_type": "code",
   "execution_count": 26,
   "metadata": {
    "collapsed": false
   },
   "outputs": [],
   "source": [
    "#"
   ]
  },
  {
   "cell_type": "code",
   "execution_count": 4,
   "metadata": {
    "collapsed": false
   },
   "outputs": [
    {
     "name": "stdout",
     "output_type": "stream",
     "text": [
      "Sample size - 130\n"
     ]
    }
   ],
   "source": [
    "print (\"Sample size - \" + str(len(df)))"
   ]
  },
  {
   "cell_type": "markdown",
   "metadata": {},
   "source": [
    "### 1. Is the distribution of body temperatures normal?"
   ]
  },
  {
   "cell_type": "code",
   "execution_count": 9,
   "metadata": {
    "collapsed": true
   },
   "outputs": [],
   "source": [
    "data = df['temperature']"
   ]
  },
  {
   "cell_type": "code",
   "execution_count": 10,
   "metadata": {
    "collapsed": true
   },
   "outputs": [],
   "source": [
    "#importing stats\n",
    "import scipy.stats as stats"
   ]
  },
  {
   "cell_type": "markdown",
   "metadata": {},
   "source": [
    "According the the documentation, there is a test in this module that assumes normal distribution as the null hypothesis and performed chi-square test. The output contains two values -\n",
    "\n",
    "1. chi-squared statistic\n",
    "2. p-value for the chi-squared statistic - if it is very low, we have to reject our hypothesis that the distribution is normal"
   ]
  },
  {
   "cell_type": "code",
   "execution_count": 11,
   "metadata": {
    "collapsed": false
   },
   "outputs": [
    {
     "data": {
      "text/plain": [
       "NormaltestResult(statistic=2.7038014333192031, pvalue=0.2587479863488254)"
      ]
     },
     "execution_count": 11,
     "metadata": {},
     "output_type": "execute_result"
    }
   ],
   "source": [
    "stats.normaltest(data)"
   ]
  },
  {
   "cell_type": "markdown",
   "metadata": {},
   "source": [
    "So, there is a 25.87% probability that this sample of the data belongs to a normal distribution. Let's not reject our assumption of normality.\n",
    "\n",
    "** Answer - Yes **"
   ]
  },
  {
   "cell_type": "markdown",
   "metadata": {},
   "source": [
    "### 2. Is the sample size large? Are the observations independent? "
   ]
  },
  {
   "cell_type": "markdown",
   "metadata": {},
   "source": [
    "Sample size is 120. Which is a reasonably large sample size."
   ]
  },
  {
   "cell_type": "code",
   "execution_count": 22,
   "metadata": {
    "collapsed": false
   },
   "outputs": [
    {
     "data": {
      "text/plain": [
       "0.25365640272076428"
      ]
     },
     "execution_count": 22,
     "metadata": {},
     "output_type": "execute_result"
    }
   ],
   "source": [
    "df.corr()['temperature']['heart_rate']"
   ]
  },
  {
   "cell_type": "markdown",
   "metadata": {},
   "source": [
    "Also, there is very weak correlation between temperature and heart rate. Let's assume the obervations to be independent."
   ]
  },
  {
   "cell_type": "markdown",
   "metadata": {},
   "source": [
    "### 3. Is the true population mean really 98.6 degrees F?\n",
    "1. Would you use a one-sample or two-sample test? Why?\n",
    "2. In this situation, is it appropriate to use the *t* or *z* statistic? \n",
    "3. Now try using the other test. How is the result be different? Why?"
   ]
  },
  {
   "cell_type": "markdown",
   "metadata": {},
   "source": [
    "I would use one-sample test here as we are trying to estimate the true population mean of the whole population. Two sample tests are used when we want to compare, say, means across two different populations such male and female."
   ]
  },
  {
   "cell_type": "markdown",
   "metadata": {},
   "source": [
    "We have a sample size of 120, which is way above the sample size of 30. So, we can comfortably assume a normal distribution for the sampling distribution and use z statistic here."
   ]
  },
  {
   "cell_type": "markdown",
   "metadata": {},
   "source": [
    "** One Sample Z test **\n",
    "\n",
    "Hypothesis - The true population mean is 98.6 degrees F\n",
    "\n",
    "Which makes -\n",
    "\n",
    "Mean for the sampling distribution - 98.6\n",
    "\n",
    "Standard deviation for the sampling distribution - std for sample / square root of sample size"
   ]
  },
  {
   "cell_type": "code",
   "execution_count": 58,
   "metadata": {
    "collapsed": false
   },
   "outputs": [
    {
     "name": "stdout",
     "output_type": "stream",
     "text": [
      "Mean - 98.6\n",
      "sample std - 0.7331831580389454\n",
      "Std - 0.0669301590734676\n",
      "Let's find out the sample mean first.\n",
      "Sample mean - 98.24923076923078\n",
      "Now we can calculate Z-statistic as follows = (sampling distribution mean - sample mean)\n",
      "                                                / sampling distribution standard deviation\n",
      "Z statistic - 5.240824698835482\n"
     ]
    }
   ],
   "source": [
    "print (\"Mean - 98.6\")\n",
    "mean = 98.6\n",
    "sample_std = data.std()\n",
    "print (\"sample std - {}\".format(sample_std))\n",
    "std = data.std() / math.sqrt(120)\n",
    "print (\"Std - \" + str(std))\n",
    "\n",
    "print (\"Let's find out the sample mean first.\")\n",
    "sample_mean = data.mean()\n",
    "print (\"Sample mean - \" + str(sample_mean))\n",
    "\n",
    "print (\"Now we can calculate Z-statistic as follows = (sampling distribution mean - sample mean)\")\n",
    "print (\"                                                / sampling distribution standard deviation\")\n",
    "Z = (mean - sample_mean)/std\n",
    "print (\"Z statistic - \" + str(Z))"
   ]
  },
  {
   "cell_type": "code",
   "execution_count": 42,
   "metadata": {
    "collapsed": false
   },
   "outputs": [
    {
     "data": {
      "text/plain": [
       "(-5.4548232923645195, 4.9021570141012155e-08)"
      ]
     },
     "execution_count": 42,
     "metadata": {},
     "output_type": "execute_result"
    }
   ],
   "source": [
    "#Useing statsmodels\n",
    "from statsmodels.stats.weightstats import ztest, ttest_ind\n",
    "ztest(data, x2=None, value=98.6, alternative='two-sided', usevar='pooled', ddof=1.0)"
   ]
  },
  {
   "cell_type": "markdown",
   "metadata": {},
   "source": [
    "As we can see, the probability of true population mean being exactly 98.6 is very low. So we have to reject our hypothesis. Alternate hypothesis that true population mean is not 98.6, should be preferred."
   ]
  },
  {
   "cell_type": "markdown",
   "metadata": {},
   "source": [
    "** Let's try using t-test **"
   ]
  },
  {
   "cell_type": "code",
   "execution_count": 52,
   "metadata": {
    "collapsed": false
   },
   "outputs": [
    {
     "data": {
      "text/plain": [
       "Ttest_1sampResult(statistic=-5.4548232923645195, pvalue=2.4106320415561276e-07)"
      ]
     },
     "execution_count": 52,
     "metadata": {},
     "output_type": "execute_result"
    }
   ],
   "source": [
    "stats.ttest_1samp(data,98.6)"
   ]
  },
  {
   "cell_type": "markdown",
   "metadata": {},
   "source": [
    "pvalue, as expected is still very low."
   ]
  },
  {
   "cell_type": "markdown",
   "metadata": {},
   "source": [
    "### 4. At what temperature should we consider someone's temperature to be \"abnormal\"?\n",
    "\n",
    "*Start by computing the margin of error and confidence interval.*\n",
    "\n",
    "Assumptions -\n",
    "\n",
    "1. Sample mean is equal to the true population mean (98.25)\n",
    "2. Sample standard deviation is equal to the true population standard deviation (0.73)\n",
    "3. 5% is the threshold for the 'abnormal'\n",
    "\n",
    "5% corresponds to (approx) Z-value of 1.64. So, the difference betweeen a temperature value and mean is greater than 1.64*standard_deviation, we will consider it as 'abnormal'.\n",
    "\n",
    "Let's get to the calculations"
   ]
  },
  {
   "cell_type": "code",
   "execution_count": 57,
   "metadata": {
    "collapsed": false
   },
   "outputs": [
    {
     "name": "stdout",
     "output_type": "stream",
     "text": [
      "The body temperatures lower than 97.05 degree F and higher than 99.45 degree F can be considered as abnormal.\n"
     ]
    }
   ],
   "source": [
    "zintostd = 1.64 * data.std()\n",
    "\n",
    "lowthreshold = round(data.mean() - zintostd,2)\n",
    "highthreshold = round(data.mean() + zintostd,2)\n",
    "\n",
    "print (\"The body temperatures lower than {} degree F and higher than {} degree F can be considered as abnormal.\".format(lowthreshold,highthreshold))"
   ]
  },
  {
   "cell_type": "markdown",
   "metadata": {},
   "source": [
    "### 5. Is there a significant difference between males and females in normal temperature?\n",
    "\n",
    "We will use 2-sample Z-test for this purpose. We'll also try T-test later.\n",
    "\n",
    "*Null Hypothesis* - There is no difference between males and females in mean body temperatures\n",
    "\n",
    "*Alternate Hypothesis* - There is a difference between males and females in mean body temperatures\n",
    "\n",
    "Threshold = 5%"
   ]
  },
  {
   "cell_type": "code",
   "execution_count": 67,
   "metadata": {
    "collapsed": false
   },
   "outputs": [
    {
     "name": "stdout",
     "output_type": "stream",
     "text": [
      "The probability value for Z-test - 2.23 %. Hence, we can reject our null hypothesis.\n"
     ]
    }
   ],
   "source": [
    "df.head()\n",
    "male = df['temperature'][df['gender'] == 'M']\n",
    "female = df['temperature'][df['gender'] == 'F']\n",
    "\n",
    "#Z-Test\n",
    "z = ztest(male,female, value=0, alternative='two-sided', usevar='pooled')\n",
    "probability = round(z[1]*100,2)\n",
    "print(\"The probability value for Z-test - {} %. Hence, we can reject our null hypothesis.\".format(probability))"
   ]
  },
  {
   "cell_type": "code",
   "execution_count": 71,
   "metadata": {
    "collapsed": false
   },
   "outputs": [
    {
     "name": "stdout",
     "output_type": "stream",
     "text": [
      "The probability value for T-test - 2.23 %. Hence, we can reject our null hypothesis.\n"
     ]
    }
   ],
   "source": [
    "#T-Test\n",
    "t = ttest_ind(male,female)\n",
    "probability = round(z[1]*100,2)\n",
    "print(\"The probability value for T-test - {} %. Hence, we can reject our null hypothesis.\".format(probability))"
   ]
  },
  {
   "cell_type": "markdown",
   "metadata": {},
   "source": [
    "As we have rejected the hypothesis that men and women have the same mean body temperature. We cannot possibly define a single true mean temperature for total population, as it will contradict with our most recent hypothesis. We need to define two universal mean body temperatures, one for men and one for women."
   ]
  }
 ],
 "metadata": {
  "kernelspec": {
   "display_name": "Python 3",
   "language": "python",
   "name": "python3"
  },
  "language_info": {
   "codemirror_mode": {
    "name": "ipython",
    "version": 3
   },
   "file_extension": ".py",
   "mimetype": "text/x-python",
   "name": "python",
   "nbconvert_exporter": "python",
   "pygments_lexer": "ipython3",
   "version": "3.6.0"
  }
 },
 "nbformat": 4,
 "nbformat_minor": 0
}
